{
  "cells": [
    {
      "cell_type": "markdown",
      "metadata": {
        "id": "view-in-github",
        "colab_type": "text"
      },
      "source": [
        "<a href=\"https://colab.research.google.com/github/wbandabarragan/Bootcamp2025/blob/main/CursoA_Semana1/Clase_01/Clase_1d.ipynb\" target=\"_parent\"><img src=\"https://colab.research.google.com/assets/colab-badge.svg\" alt=\"Open In Colab\"/></a>"
      ]
    },
    {
      "cell_type": "markdown",
      "id": "0b393f2e-c536-41aa-aa4d-046c66f3a645",
      "metadata": {
        "id": "0b393f2e-c536-41aa-aa4d-046c66f3a645"
      },
      "source": [
        "## Python on Google Colab\n",
        "\n",
        "- In command-line/interactive mode, you type Python programs and the interpreter prints the result:\n",
        "\n",
        "### CLI mode:"
      ]
    },
    {
      "cell_type": "code",
      "execution_count": null,
      "id": "09543be9-1ee0-4dc8-ab2e-78831353ec74",
      "metadata": {
        "colab": {
          "base_uri": "https://localhost:8080/"
        },
        "id": "09543be9-1ee0-4dc8-ab2e-78831353ec74",
        "outputId": "533c22a3-f058-47f9-c5c8-ec2b30052fc0"
      },
      "outputs": [
        {
          "output_type": "stream",
          "name": "stdout",
          "text": [
            "Hello World!\n"
          ]
        }
      ],
      "source": [
        "print(\"Hello World!\")"
      ]
    },
    {
      "cell_type": "markdown",
      "id": "3a5799b5-d36b-45db-b3ca-cea1f700361e",
      "metadata": {
        "id": "3a5799b5-d36b-45db-b3ca-cea1f700361e"
      },
      "source": [
        "### Script mode:\n",
        "\n",
        "\n",
        "```python\n",
        "print(\"Hello world!\")\n",
        "```\n",
        "\n",
        "We need to upload the script to GDrive first."
      ]
    },
    {
      "cell_type": "code",
      "execution_count": null,
      "id": "7d38a2a3-728e-42d7-b902-4df1f400e3fc",
      "metadata": {
        "colab": {
          "base_uri": "https://localhost:8080/"
        },
        "id": "7d38a2a3-728e-42d7-b902-4df1f400e3fc",
        "outputId": "a5ca3e68-be82-4897-993a-6d02a4d3f760"
      },
      "outputs": [
        {
          "output_type": "stream",
          "name": "stdout",
          "text": [
            "Mounted at /content/drive\n"
          ]
        }
      ],
      "source": [
        "from google.colab import drive\n",
        "drive.mount('/content/drive')"
      ]
    },
    {
      "cell_type": "code",
      "source": [
        "# Navigate to your desired Google Drive folder (create if it doesn't exist)\n",
        "%cd /content/drive/MyDrive/Bootcamp2025/\n",
        "\n",
        "# Create a directory if it doesn't exist\n",
        "!mkdir -p files\n",
        "\n",
        "# Change into the newly created or existing directory\n",
        "%cd files\n",
        "\n",
        "# Download the script.py file using wget\n",
        "!wget https://raw.githubusercontent.com/Astronomia-Ecuador/Bootcamp2025/main/CursoA_Semana1/Clase_01/script.py"
      ],
      "metadata": {
        "colab": {
          "base_uri": "https://localhost:8080/"
        },
        "id": "8by0gq3xjMNo",
        "outputId": "bdaecfcf-0161-4ca2-c9fc-ddd8b911d92d"
      },
      "id": "8by0gq3xjMNo",
      "execution_count": null,
      "outputs": [
        {
          "output_type": "stream",
          "name": "stdout",
          "text": [
            "/content/drive/MyDrive/Bootcamp2025\n",
            "/content/drive/MyDrive/Bootcamp2025/files\n",
            "--2025-07-07 11:02:33--  https://raw.githubusercontent.com/Astronomia-Ecuador/ISYA2025/main/Python_for_Astrophysics/files/script.py\n",
            "Resolving raw.githubusercontent.com (raw.githubusercontent.com)... 185.199.111.133, 185.199.108.133, 185.199.109.133, ...\n",
            "Connecting to raw.githubusercontent.com (raw.githubusercontent.com)|185.199.111.133|:443... connected.\n",
            "HTTP request sent, awaiting response... 200 OK\n",
            "Length: 22 [text/plain]\n",
            "Saving to: ‘script.py’\n",
            "\n",
            "script.py           100%[===================>]      22  --.-KB/s    in 0s      \n",
            "\n",
            "2025-07-07 11:02:33 (300 KB/s) - ‘script.py’ saved [22/22]\n",
            "\n"
          ]
        }
      ]
    },
    {
      "cell_type": "code",
      "source": [
        "!ls /content/drive/MyDrive/Bootcamp2025"
      ],
      "metadata": {
        "colab": {
          "base_uri": "https://localhost:8080/"
        },
        "id": "hyj_xNaIih7p",
        "outputId": "b58eb596-932b-4e42-b063-529ff041559f"
      },
      "id": "hyj_xNaIih7p",
      "execution_count": null,
      "outputs": [
        {
          "output_type": "stream",
          "name": "stdout",
          "text": [
            "Clase_1b.ipynb\tClase_1d.ipynb\tfiles  sine.eps\n"
          ]
        }
      ]
    },
    {
      "cell_type": "code",
      "source": [
        "!python /content/drive/My\\ Drive/Bootcamp2025/files/script.py"
      ],
      "metadata": {
        "colab": {
          "base_uri": "https://localhost:8080/"
        },
        "id": "sw1sT7Vhjgfd",
        "outputId": "6636888b-41ea-47b3-c711-e2ce077143de"
      },
      "id": "sw1sT7Vhjgfd",
      "execution_count": null,
      "outputs": [
        {
          "output_type": "stream",
          "name": "stdout",
          "text": [
            "Hello World!\n"
          ]
        }
      ]
    },
    {
      "cell_type": "markdown",
      "id": "8470da8f-4724-493c-a8bb-179ae16237cf",
      "metadata": {
        "id": "8470da8f-4724-493c-a8bb-179ae16237cf"
      },
      "source": [
        "### Import libraries:"
      ]
    },
    {
      "cell_type": "code",
      "execution_count": null,
      "id": "17d68dbe-ec35-4a35-b0da-ee462efb4e6e",
      "metadata": {
        "id": "17d68dbe-ec35-4a35-b0da-ee462efb4e6e"
      },
      "outputs": [],
      "source": [
        "# This # is used to add a comment in the python language\n",
        "# Importing libraries\n",
        "\n",
        "import numpy as np # np is an alias, aliases are used to avoid calling long names\n",
        "import matplotlib.pyplot as plt # plt is an alias"
      ]
    },
    {
      "cell_type": "markdown",
      "source": [
        "## Check installation:"
      ],
      "metadata": {
        "id": "HPhMFZroizrx"
      },
      "id": "HPhMFZroizrx"
    },
    {
      "cell_type": "code",
      "source": [
        "import sys\n",
        "import os"
      ],
      "metadata": {
        "id": "FVCGBS2ii2bg"
      },
      "id": "FVCGBS2ii2bg",
      "execution_count": null,
      "outputs": []
    },
    {
      "cell_type": "code",
      "source": [
        "print(\"--- Python Executable ---\")\n",
        "print(sys.executable) # Path to the active Python interpreter"
      ],
      "metadata": {
        "colab": {
          "base_uri": "https://localhost:8080/"
        },
        "id": "_SKDbs-zi4_-",
        "outputId": "2fc44a5a-ceb3-4482-9807-ee9e517fbf27"
      },
      "id": "_SKDbs-zi4_-",
      "execution_count": null,
      "outputs": [
        {
          "output_type": "stream",
          "name": "stdout",
          "text": [
            "--- Python Executable ---\n",
            "/usr/bin/python3\n"
          ]
        }
      ]
    },
    {
      "cell_type": "code",
      "source": [
        "print(\"\\n--- Python Version ---\")\n",
        "print(sys.version)"
      ],
      "metadata": {
        "colab": {
          "base_uri": "https://localhost:8080/"
        },
        "id": "pE_vXZ_Ki7rV",
        "outputId": "5c2c207f-4025-4aac-c6cf-b9e7351ce399"
      },
      "id": "pE_vXZ_Ki7rV",
      "execution_count": null,
      "outputs": [
        {
          "output_type": "stream",
          "name": "stdout",
          "text": [
            "\n",
            "--- Python Version ---\n",
            "3.11.13 (main, Jun  4 2025, 08:57:29) [GCC 11.4.0]\n"
          ]
        }
      ]
    },
    {
      "cell_type": "code",
      "source": [
        "print(\"\\n--- Python Search Paths (sys.path) ---\")\n",
        "# These are the directories Python searches for modules/packages\n",
        "for p in sys.path:\n",
        "    print(p)"
      ],
      "metadata": {
        "colab": {
          "base_uri": "https://localhost:8080/"
        },
        "id": "B1UEQIGRi-g6",
        "outputId": "41e900d7-a5ac-4abd-878d-51bc4b140da1"
      },
      "id": "B1UEQIGRi-g6",
      "execution_count": null,
      "outputs": [
        {
          "output_type": "stream",
          "name": "stdout",
          "text": [
            "\n",
            "--- Python Search Paths (sys.path) ---\n",
            "/content\n",
            "/env/python\n",
            "/usr/lib/python311.zip\n",
            "/usr/lib/python3.11\n",
            "/usr/lib/python3.11/lib-dynload\n",
            "\n",
            "/usr/local/lib/python3.11/dist-packages\n",
            "/usr/lib/python3/dist-packages\n",
            "/usr/local/lib/python3.11/dist-packages/IPython/extensions\n",
            "/usr/local/lib/python3.11/dist-packages/setuptools/_vendor\n",
            "/root/.ipython\n"
          ]
        }
      ]
    },
    {
      "cell_type": "code",
      "source": [
        "print(\"\\n--- Site-Packages Directory (for pip installs) ---\")\n",
        "# This is usually one of the paths in sys.path\n",
        "# This path is where pip installs packages for the current environment.\n",
        "from distutils.sysconfig import get_python_lib\n",
        "print(get_python_lib())"
      ],
      "metadata": {
        "colab": {
          "base_uri": "https://localhost:8080/"
        },
        "id": "8ObTrl5zjCMh",
        "outputId": "0a0dc664-eb0a-479f-cf1a-dcdf9a1e4fed"
      },
      "id": "8ObTrl5zjCMh",
      "execution_count": null,
      "outputs": [
        {
          "output_type": "stream",
          "name": "stdout",
          "text": [
            "\n",
            "--- Site-Packages Directory (for pip installs) ---\n",
            "/usr/lib/python3.11/site-packages\n"
          ]
        }
      ]
    },
    {
      "cell_type": "code",
      "source": [
        "print(\"\\n--- Current Working Directory ---\")\n",
        "print(os.getcwd()) # The directory you're currently in (e.g., /content)"
      ],
      "metadata": {
        "colab": {
          "base_uri": "https://localhost:8080/"
        },
        "id": "kPkrj7pJjGl6",
        "outputId": "2fdce173-e7dd-4ef8-f0a0-5d64bbc303ff"
      },
      "id": "kPkrj7pJjGl6",
      "execution_count": null,
      "outputs": [
        {
          "output_type": "stream",
          "name": "stdout",
          "text": [
            "\n",
            "--- Current Working Directory ---\n",
            "/content\n"
          ]
        }
      ]
    },
    {
      "cell_type": "markdown",
      "source": [
        "## 1D arrays: Vector generation:\n",
        "\n",
        "- np.arange()\n",
        "\n",
        "- np.linspace()"
      ],
      "metadata": {
        "id": "6dqVo8oKklOu"
      },
      "id": "6dqVo8oKklOu"
    },
    {
      "cell_type": "code",
      "source": [
        "# Generate two axes:\n",
        "\n",
        "# This is with arange with takes the step in between elements\n",
        "x_axis = np.arange(0., 1.+0.1, 0.1)\n",
        "\n",
        "print(x_axis)\n",
        "\n",
        "# This is with linspace with takes the # of elements\n",
        "y_axis = np.linspace(0., 1., 11)\n",
        "\n",
        "print(y_axis)"
      ],
      "metadata": {
        "colab": {
          "base_uri": "https://localhost:8080/"
        },
        "id": "4MCjZLpukkWJ",
        "outputId": "748521d5-2793-47d2-98bb-0db3bdeb4840"
      },
      "id": "4MCjZLpukkWJ",
      "execution_count": null,
      "outputs": [
        {
          "output_type": "stream",
          "name": "stdout",
          "text": [
            "[0.  0.1 0.2 0.3 0.4 0.5 0.6 0.7 0.8 0.9 1. ]\n",
            "[0.  0.1 0.2 0.3 0.4 0.5 0.6 0.7 0.8 0.9 1. ]\n"
          ]
        }
      ]
    },
    {
      "cell_type": "markdown",
      "source": [
        "## 2D arrays: Arrays from a nested list"
      ],
      "metadata": {
        "id": "dlzuICPTlMTh"
      },
      "id": "dlzuICPTlMTh"
    },
    {
      "cell_type": "code",
      "source": [
        "a_2d = np.array([[1., 2.], [3., 4.]])\n",
        "\n",
        "print(a_2d)\n",
        "\n",
        "print(a_2d.size)\n",
        "\n",
        "print(a_2d.shape)"
      ],
      "metadata": {
        "colab": {
          "base_uri": "https://localhost:8080/"
        },
        "id": "OFbltMwtk6ok",
        "outputId": "b24a4b90-0053-4396-f4c4-1371370befdc"
      },
      "id": "OFbltMwtk6ok",
      "execution_count": null,
      "outputs": [
        {
          "output_type": "stream",
          "name": "stdout",
          "text": [
            "[[1. 2.]\n",
            " [3. 4.]]\n",
            "4\n",
            "(2, 2)\n"
          ]
        }
      ]
    },
    {
      "cell_type": "markdown",
      "source": [
        "## Images are matrices"
      ],
      "metadata": {
        "id": "0Z5RkwwFlbyn"
      },
      "id": "0Z5RkwwFlbyn"
    },
    {
      "cell_type": "code",
      "source": [
        "import matplotlib.pyplot as plt\n"
      ],
      "metadata": {
        "id": "Th2IRaTFlQJ0"
      },
      "id": "Th2IRaTFlQJ0",
      "execution_count": null,
      "outputs": []
    },
    {
      "cell_type": "code",
      "source": [
        "plt.imshow(a_2d)"
      ],
      "metadata": {
        "colab": {
          "base_uri": "https://localhost:8080/",
          "height": 453
        },
        "id": "JGMpEq3XlS33",
        "outputId": "53bc0bd1-9b42-4e84-e8f7-8a8f758a7566"
      },
      "id": "JGMpEq3XlS33",
      "execution_count": null,
      "outputs": [
        {
          "output_type": "execute_result",
          "data": {
            "text/plain": [
              "<matplotlib.image.AxesImage at 0x788ba8109390>"
            ]
          },
          "metadata": {},
          "execution_count": 29
        },
        {
          "output_type": "display_data",
          "data": {
            "text/plain": [
              "<Figure size 640x480 with 1 Axes>"
            ],
            "image/png": "[encoded data removed]"
          },
          "metadata": {}
        }
      ]
    },
    {
      "cell_type": "markdown",
      "source": [
        "### Why choose python?\n",
        "\n",
        "- Python is free and open source. No licensing.\n",
        "\n",
        "- Python has become the more widely used programmming language in several science filds (e.g. in astronomy and astrophysics) due to its versatility, extensive set of scientific libraries, and strong community support.\n",
        "\n",
        "- It is widely used for tasks ranging from data reduction and analysis to large-scale simulations.\n",
        "\n",
        "### Popular packages:\n",
        "\n",
        "| Purpose                    | Python Package(s)                        |\n",
        "|----------------------------|------------------------------------------|\n",
        "| Data analysis              | `NumPy`, `SciPy`, `Pandas`               |\n",
        "| Visualization              | `Matplotlib`, `Plotly`, `yt`             |\n",
        "| Machine learning           | `scikit-learn`, `TensorFlow`, `PyTorch`  |"
      ],
      "metadata": {
        "id": "cX9PXgbcntbA"
      },
      "id": "cX9PXgbcntbA"
    }
  ],
  "metadata": {
    "kernelspec": {
      "display_name": "Python 3 (ipykernel)",
      "language": "python",
      "name": "python3"
    },
    "language_info": {
      "codemirror_mode": {
        "name": "ipython",
        "version": 3
      },
      "file_extension": ".py",
      "mimetype": "text/x-python",
      "name": "python",
      "nbconvert_exporter": "python",
      "pygments_lexer": "ipython3",
      "version": "3.9.18"
    },
    "colab": {
      "provenance": [],
      "include_colab_link": true
    }
  },
  "nbformat": 4,
  "nbformat_minor": 5
}