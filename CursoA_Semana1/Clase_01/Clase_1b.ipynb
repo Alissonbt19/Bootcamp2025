{
  "cells": [
    {
      "cell_type": "markdown",
      "metadata": {
        "colab_type": "text",
        "id": "view-in-github"
      },
      "source": [
        "<a href=\"https://colab.research.google.com/github/wbandabarragan/computational-physics-1/blob/main/unit-1/101-Introduction-GoogleColab.ipynb\" target=\"_parent\"><img src=\"https://colab.research.google.com/assets/colab-badge.svg\" alt=\"Open In Colab\"/></a>"
      ]
    },
    {
      "cell_type": "markdown",
      "metadata": {
        "id": "Xsr99Z-Lll-k"
      },
      "source": [
        "# Introduction to Google Colab\n",
        "\n",
        "In this lecture, we will use Google Colab to execute some basic Linux and Python commands.\n",
        "\n",
        "The aim of the lecture is to carry out some basic plotting in 1D and 2D to illustrate the usage of Google Colab. For this, we need to:\n",
        "\n",
        "1. Log into our Google accounts.\n",
        "2. Open a Google Colab notebook.\n",
        "3. Edit the name of the notebook.\n",
        "4. Start adding text and code cells.\n",
        "5. Execute the code.\n",
        "\n",
        "Google Colab allows us to access remote Linux servers owned by Google, where python is already installed. With Google Colab we can acess such servers via a browser, and this means we do not need to have python installed in our laptops/PCs to use it.\n",
        "\n",
        "The disadvantage is that we are bound to the RAM memory and disc space available in the remote server. For short programming tasks and small computing loads, this is not a problem, but this could be a limitation if we are doing heavy computing, e.g. if we are analysing large data sets.\n",
        "\n",
        "Thus, in the long term, I recommend installing your own versions of python (preferrably via Conda).\n",
        "\n",
        "\n",
        "# 1. Linux commands:\n",
        "\n",
        "\n",
        "We can use bash commands in a jupyter notebook with \"!\" e.g. The command **pwd** is used to check where we are in the Linux system. Note that / stands for 'root', which is the main directory on Linux machines. In other cases, 'root' can also refer to the **superuser** of a Linux environment. A superuser has permissions to carry out any changes in the system."
      ]
    },
    {
      "cell_type": "code",
      "execution_count": 2,
      "metadata": {
        "colab": {
          "base_uri": "https://localhost:8080/"
        },
        "id": "LvzyJEDzj6nc",
        "outputId": "ee53b593-b88e-42ed-c686-e7120ebf504b"
      },
      "outputs": [
        {
          "name": "stdout",
          "output_type": "stream",
          "text": [
            "/Users/wbandabarragan/Library/CloudStorage/Dropbox/GitHub_Repos/Bootcamp2025/CursoA_Semana1/Clase_01\n"
          ]
        }
      ],
      "source": [
        "!pwd"
      ]
    },
    {
      "cell_type": "markdown",
      "metadata": {
        "id": "HR5kvTirDYct"
      },
      "source": [
        "We can check the version of python installes on the server via:"
      ]
    },
    {
      "cell_type": "code",
      "execution_count": 3,
      "metadata": {
        "colab": {
          "base_uri": "https://localhost:8080/"
        },
        "id": "x13K-7PtmUig",
        "outputId": "0347d41d-35ba-4810-84a1-d8280f11f499"
      },
      "outputs": [
        {
          "name": "stdout",
          "output_type": "stream",
          "text": [
            "Python 3.11.7\n"
          ]
        }
      ],
      "source": [
        "!python --version"
      ]
    },
    {
      "cell_type": "markdown",
      "metadata": {},
      "source": [
        "Kernel Information:"
      ]
    },
    {
      "cell_type": "code",
      "execution_count": 4,
      "metadata": {
        "id": "uIRbhuocuybY"
      },
      "outputs": [
        {
          "name": "stdout",
          "output_type": "stream",
          "text": [
            "Darwin Wladimirs-MacBook-Pro.local 23.6.0 Darwin Kernel Version 23.6.0: Mon Jul 29 21:14:46 PDT 2024; root:xnu-10063.141.2~1/RELEASE_ARM64_T6031 arm64\n"
          ]
        }
      ],
      "source": [
        "!uname -a"
      ]
    },
    {
      "cell_type": "markdown",
      "metadata": {},
      "source": [
        "Create a test directory\n"
      ]
    },
    {
      "cell_type": "code",
      "execution_count": 5,
      "metadata": {},
      "outputs": [],
      "source": [
        "!mkdir my_test_dir"
      ]
    },
    {
      "cell_type": "markdown",
      "metadata": {},
      "source": [
        "Disc usage:"
      ]
    },
    {
      "cell_type": "code",
      "execution_count": 6,
      "metadata": {},
      "outputs": [
        {
          "name": "stdout",
          "output_type": "stream",
          "text": [
            "Filesystem        Size    Used   Avail Capacity iused ifree %iused  Mounted on\n",
            "/dev/disk3s1s1   3.6Ti    12Gi   2.5Ti     1%    404k  4.3G    0%   /\n",
            "devfs            199Ki   199Ki     0Bi   100%     688     0  100%   /dev\n",
            "/dev/disk3s6     3.6Ti    20Ki   2.5Ti     1%       0   27G    0%   /System/Volumes/VM\n",
            "/dev/disk3s2     3.6Ti    11Gi   2.5Ti     1%    1.5k   27G    0%   /System/Volumes/Preboot\n",
            "/dev/disk3s4     3.6Ti   657Mi   2.5Ti     1%     323   27G    0%   /System/Volumes/Update\n",
            "/dev/disk1s2     500Mi   6.0Mi   480Mi     2%       1  4.9M    0%   /System/Volumes/xarts\n",
            "/dev/disk1s1     500Mi   6.2Mi   480Mi     2%      40  4.9M    0%   /System/Volumes/iSCPreboot\n",
            "/dev/disk1s3     500Mi   2.9Mi   480Mi     1%      91  4.9M    0%   /System/Volumes/Hardware\n",
            "/dev/disk3s5     3.6Ti   1.1Ti   2.5Ti    31%    4.6M   27G    0%   /System/Volumes/Data\n",
            "map auto_home      0Bi     0Bi     0Bi   100%       0     0     -   /System/Volumes/Data/home\n",
            "/dev/disk3s1     3.6Ti    12Gi   2.5Ti     1%    405k  4.3G    0%   /System/Volumes/Update/mnt1\n"
          ]
        }
      ],
      "source": [
        "!df -h"
      ]
    },
    {
      "cell_type": "code",
      "execution_count": null,
      "metadata": {},
      "outputs": [],
      "source": []
    }
  ],
  "metadata": {
    "colab": {
      "authorship_tag": "ABX9TyPNtX5Jxl8wZnrrVUlSGzPp",
      "include_colab_link": true,
      "provenance": []
    },
    "kernelspec": {
      "display_name": "base",
      "language": "python",
      "name": "python3"
    },
    "language_info": {
      "codemirror_mode": {
        "name": "ipython",
        "version": 3
      },
      "file_extension": ".py",
      "mimetype": "text/x-python",
      "name": "python",
      "nbconvert_exporter": "python",
      "pygments_lexer": "ipython3",
      "version": "3.11.7"
    }
  },
  "nbformat": 4,
  "nbformat_minor": 0
}
