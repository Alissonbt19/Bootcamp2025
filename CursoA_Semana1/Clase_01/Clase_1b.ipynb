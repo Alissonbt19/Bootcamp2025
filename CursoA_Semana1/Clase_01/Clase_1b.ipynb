{
  "cells": [
    {
      "cell_type": "markdown",
      "metadata": {
        "id": "view-in-github",
        "colab_type": "text"
      },
      "source": [
        "<a href=\"https://colab.research.google.com/github/wbandabarragan/Bootcamp2025/blob/main/CursoA_Semana1/Clase_01/Clase_1b.ipynb\" target=\"_parent\"><img src=\"https://colab.research.google.com/assets/colab-badge.svg\" alt=\"Open In Colab\"/></a>"
      ]
    },
    {
      "cell_type": "markdown",
      "metadata": {
        "id": "Xsr99Z-Lll-k"
      },
      "source": [
        "# Linux on Google Colab\n",
        "\n",
        "In this lecture, we will use Google Colab to execute some basic Linux and Python commands.\n",
        "\n",
        "The aim of the lecture is to carry out some basic plotting in 1D and 2D to illustrate the usage of Google Colab. For this, we need to:\n",
        "\n",
        "1. Log into our Google accounts.\n",
        "2. Open a Google Colab notebook.\n",
        "3. Edit the name of the notebook.\n",
        "4. Start adding text and code cells.\n",
        "5. Execute the code.\n",
        "\n",
        "## Remote (Google) server connection\n",
        "\n",
        "Google Colab allows us to access remote Linux servers owned by Google, where python is already installed. With Google Colab we can acess such servers via a browser, and this means we do not need to have python installed in our laptops/PCs to use it.\n",
        "\n",
        "The disadvantage is that we are bound to the RAM memory and disc space available in the remote server. For short programming tasks and small computing loads, this is not a problem, but this could be a limitation if we are doing heavy computing, e.g. if we are analysing large data sets.\n",
        "\n",
        "Thus, in the long term, I recommend installing your own versions of python (e.g. via Conda https://www.anaconda.com).\n",
        "\n",
        "## Jupyter notebooks\n",
        "\n",
        "- Jupyter notebooks are interactive digital scrapbooks for code and notes. They let you interact with your code instantly.\n",
        "\n",
        "- Ideal for homework that involves math, astro, physics, and programming.\n",
        "\n",
        "- Notebooks are web-based document where you can write code, see the results and plots, and add text (like explanations or comments).\n",
        "\n",
        "## Kernels\n",
        "\n",
        "- Kernels are the **engine** that runs the code in your notebook. Think of it as the brain behind the operations.\n",
        "\n",
        "- Each kernel understands a different programming language (like Python, R, or Julia).\n",
        "\n",
        "- When you run a code cell, the kernel executes it and sends the answer back to your notebook.\n",
        "\n",
        "\n",
        "## Linux commands:\n",
        "\n",
        "\n",
        "We can use bash commands in a jupyter notebook with \"!\" e.g. The command **pwd** is used to check where we are in the Linux system. Note that / stands for 'root', which is the main directory on Linux machines. In other cases, 'root' can also refer to the **superuser** of a Linux environment. A superuser has permissions to carry out any changes in the system."
      ]
    },
    {
      "cell_type": "code",
      "execution_count": 1,
      "metadata": {
        "colab": {
          "base_uri": "https://localhost:8080/"
        },
        "id": "LvzyJEDzj6nc",
        "outputId": "f8dbf119-d7c6-48ad-9c9a-d290c216de03"
      },
      "outputs": [
        {
          "output_type": "stream",
          "name": "stdout",
          "text": [
            "/content\n"
          ]
        }
      ],
      "source": [
        "!pwd"
      ]
    },
    {
      "cell_type": "markdown",
      "source": [
        "Check Linux kernel information:"
      ],
      "metadata": {
        "id": "UIbKuqnJHQeY"
      }
    },
    {
      "cell_type": "code",
      "source": [
        "!uname -a"
      ],
      "metadata": {
        "colab": {
          "base_uri": "https://localhost:8080/"
        },
        "id": "R9XG0RcWHUDe",
        "outputId": "4f17040c-4a65-47ec-becc-3d0a1421fe2d"
      },
      "execution_count": 2,
      "outputs": [
        {
          "output_type": "stream",
          "name": "stdout",
          "text": [
            "Linux f3f9af6f4c71 6.1.123+ #1 SMP PREEMPT_DYNAMIC Sun Mar 30 16:01:29 UTC 2025 x86_64 x86_64 x86_64 GNU/Linux\n"
          ]
        }
      ]
    },
    {
      "cell_type": "markdown",
      "source": [
        "Release version:"
      ],
      "metadata": {
        "id": "XHBoIlsiIgKB"
      }
    },
    {
      "cell_type": "code",
      "source": [
        "!lsb_release -a"
      ],
      "metadata": {
        "colab": {
          "base_uri": "https://localhost:8080/"
        },
        "id": "MwInrcwlIoLx",
        "outputId": "9f69d6d2-062c-4583-b408-3c3bb1681e43"
      },
      "execution_count": 3,
      "outputs": [
        {
          "output_type": "stream",
          "name": "stdout",
          "text": [
            "No LSB modules are available.\n",
            "Distributor ID:\tUbuntu\n",
            "Description:\tUbuntu 22.04.4 LTS\n",
            "Release:\t22.04\n",
            "Codename:\tjammy\n"
          ]
        }
      ]
    },
    {
      "cell_type": "code",
      "source": [
        "!cat /etc/os-release"
      ],
      "metadata": {
        "colab": {
          "base_uri": "https://localhost:8080/"
        },
        "id": "BItUZ-O_IiEt",
        "outputId": "9bd5acf5-7e87-4757-a8fe-696127207ce4"
      },
      "execution_count": 4,
      "outputs": [
        {
          "output_type": "stream",
          "name": "stdout",
          "text": [
            "PRETTY_NAME=\"Ubuntu 22.04.4 LTS\"\n",
            "NAME=\"Ubuntu\"\n",
            "VERSION_ID=\"22.04\"\n",
            "VERSION=\"22.04.4 LTS (Jammy Jellyfish)\"\n",
            "VERSION_CODENAME=jammy\n",
            "ID=ubuntu\n",
            "ID_LIKE=debian\n",
            "HOME_URL=\"https://www.ubuntu.com/\"\n",
            "SUPPORT_URL=\"https://help.ubuntu.com/\"\n",
            "BUG_REPORT_URL=\"https://bugs.launchpad.net/ubuntu/\"\n",
            "PRIVACY_POLICY_URL=\"https://www.ubuntu.com/legal/terms-and-policies/privacy-policy\"\n",
            "UBUNTU_CODENAME=jammy\n"
          ]
        }
      ]
    },
    {
      "cell_type": "markdown",
      "source": [
        "Remote disc usage:"
      ],
      "metadata": {
        "id": "-EXo9u9OHele"
      }
    },
    {
      "cell_type": "code",
      "source": [
        "!df -h"
      ],
      "metadata": {
        "colab": {
          "base_uri": "https://localhost:8080/"
        },
        "id": "krE1UYgqHgla",
        "outputId": "2e317bbb-78a6-4b5e-db20-fe11a0caee26"
      },
      "execution_count": 5,
      "outputs": [
        {
          "output_type": "stream",
          "name": "stdout",
          "text": [
            "Filesystem      Size  Used Avail Use% Mounted on\n",
            "overlay         108G   38G   71G  36% /\n",
            "tmpfs            64M     0   64M   0% /dev\n",
            "shm             5.8G     0  5.8G   0% /dev/shm\n",
            "/dev/root       2.0G  1.2G  775M  61% /usr/sbin/docker-init\n",
            "tmpfs           6.4G  2.3M  6.4G   1% /var/colab\n",
            "/dev/sda1        73G   39G   34G  54% /kaggle/input\n",
            "tmpfs           6.4G     0  6.4G   0% /proc/acpi\n",
            "tmpfs           6.4G     0  6.4G   0% /proc/scsi\n",
            "tmpfs           6.4G     0  6.4G   0% /sys/firmware\n",
            "drive           108G   42G   67G  39% /content/drive\n"
          ]
        }
      ]
    },
    {
      "cell_type": "markdown",
      "source": [
        "List files:"
      ],
      "metadata": {
        "id": "hDWj_9VgHo5b"
      }
    },
    {
      "cell_type": "code",
      "source": [
        "!ls -l"
      ],
      "metadata": {
        "colab": {
          "base_uri": "https://localhost:8080/"
        },
        "id": "axks_0jMHrBu",
        "outputId": "2f9fa0d1-848b-42c7-ff16-7177faf3287a"
      },
      "execution_count": 6,
      "outputs": [
        {
          "output_type": "stream",
          "name": "stdout",
          "text": [
            "total 8\n",
            "drwx------ 6 root root 4096 Jul  7 04:24 drive\n",
            "drwxr-xr-x 1 root root 4096 Jul  1 21:04 sample_data\n"
          ]
        }
      ]
    },
    {
      "cell_type": "markdown",
      "source": [
        "Linux filesystem structure:"
      ],
      "metadata": {
        "id": "r1MdbKzXIt1Y"
      }
    },
    {
      "cell_type": "code",
      "source": [
        "!ls -ltr /"
      ],
      "metadata": {
        "colab": {
          "base_uri": "https://localhost:8080/"
        },
        "id": "XPpryQxiIxB1",
        "outputId": "1bd5ce41-bbc0-448f-addb-9ba34cfd805a"
      },
      "execution_count": 7,
      "outputs": [
        {
          "output_type": "stream",
          "name": "stdout",
          "text": [
            "total 448\n",
            "-r-xr-xr-x   1 root root 346012 Jan  1  2000 python-apt.tar.xz\n",
            "drwxr-xr-x   2 root root   4096 Apr 18  2022 home\n",
            "drwxr-xr-x   2 root root   4096 Apr 18  2022 boot\n",
            "lrwxrwxrwx   1 root root      8 Jun 27  2024 sbin -> usr/sbin\n",
            "lrwxrwxrwx   1 root root     10 Jun 27  2024 libx32 -> usr/libx32\n",
            "lrwxrwxrwx   1 root root      9 Jun 27  2024 lib64 -> usr/lib64\n",
            "lrwxrwxrwx   1 root root      9 Jun 27  2024 lib32 -> usr/lib32\n",
            "lrwxrwxrwx   1 root root      7 Jun 27  2024 lib -> usr/lib\n",
            "lrwxrwxrwx   1 root root      7 Jun 27  2024 bin -> usr/bin\n",
            "drwxr-xr-x   2 root root   4096 Jun 27  2024 srv\n",
            "drwxr-xr-x   2 root root   4096 Jun 27  2024 mnt\n",
            "drwxr-xr-x   2 root root   4096 Jun 27  2024 media\n",
            "-rw-r--r--   1 root root  17294 Jul 10  2024 NGC-DL-CONTAINER-LICENSE\n",
            "-rw-r--r--   1 root root   4332 Jul 10  2024 cuda-keyring_1.1-1_all.deb\n",
            "drwxr-xr-x   1 root root   4096 Jul  1 20:39 run\n",
            "drwxrwxr-x  14 root root   4096 Jul  1 20:47 python-apt\n",
            "drwxr-xr-x   1 root root   4096 Jul  1 21:19 tools\n",
            "drwxr-xr-x   1 root root   4096 Jul  1 21:19 datalab\n",
            "drwxr-xr-x   1 root root   4096 Jul  1 21:19 var\n",
            "drwxr-xr-x   1 root root   4096 Jul  1 21:21 usr\n",
            "drwxr-xr-x   1 root root   4096 Jul  1 21:38 opt\n",
            "drwxr-xr-x   1 root root   4096 Jul  7 04:14 etc\n",
            "dr-xr-xr-x  13 root root      0 Jul  7 04:14 sys\n",
            "dr-xr-xr-x 206 root root      0 Jul  7 04:14 proc\n",
            "drwxr-xr-x   3 root root   4096 Jul  7 04:14 kaggle\n",
            "drwxr-xr-x   5 root root    360 Jul  7 04:14 dev\n",
            "drwx------   1 root root   4096 Jul  7 04:14 root\n",
            "drwxr-xr-x   1 root root   4096 Jul  7 04:24 content\n",
            "drwxrwxrwt   1 root root   4096 Jul  7 04:39 tmp\n"
          ]
        }
      ]
    },
    {
      "cell_type": "markdown",
      "metadata": {
        "id": "HR5kvTirDYct"
      },
      "source": [
        "We can check the version of python installes on the server via:"
      ]
    },
    {
      "cell_type": "code",
      "execution_count": 8,
      "metadata": {
        "colab": {
          "base_uri": "https://localhost:8080/"
        },
        "id": "x13K-7PtmUig",
        "outputId": "cb80191e-2868-4120-c615-6f8e16934e9c"
      },
      "outputs": [
        {
          "output_type": "stream",
          "name": "stdout",
          "text": [
            "Python 3.11.13\n"
          ]
        }
      ],
      "source": [
        "!python --version"
      ]
    },
    {
      "cell_type": "markdown",
      "source": [
        "## Mounting your GDrive:"
      ],
      "metadata": {
        "id": "In0s4ADOH58b"
      }
    },
    {
      "cell_type": "code",
      "source": [
        "from google.colab import drive\n",
        "drive.mount('/content/drive')"
      ],
      "metadata": {
        "colab": {
          "base_uri": "https://localhost:8080/"
        },
        "id": "dMwXnSEEH_g4",
        "outputId": "0707688a-8be3-4177-efc8-731fa60aa093"
      },
      "execution_count": 9,
      "outputs": [
        {
          "output_type": "stream",
          "name": "stdout",
          "text": [
            "Drive already mounted at /content/drive; to attempt to forcibly remount, call drive.mount(\"/content/drive\", force_remount=True).\n"
          ]
        }
      ]
    },
    {
      "cell_type": "markdown",
      "source": [
        "## Web scrapping Files with ```wget```:"
      ],
      "metadata": {
        "id": "9rUM7UyvH0zM"
      }
    },
    {
      "cell_type": "code",
      "source": [
        "# Navigate to the working directory\n",
        "%cd /content/drive/MyDrive/Bootcamp2025/\n",
        "\n",
        "# Create a directory\n",
        "!mkdir -p new_files\n",
        "\n",
        "# Change into the newly created or existing directory\n",
        "%cd new_files\n",
        "\n",
        "# Download the script.py file using wget\n",
        "!wget https://raw.githubusercontent.com/Astronomia-Ecuador/ISYA2025/main/Python_for_Astrophysics/files/script.py"
      ],
      "metadata": {
        "colab": {
          "base_uri": "https://localhost:8080/"
        },
        "id": "F5Y9cPYWHsjA",
        "outputId": "407eafe7-02ff-4156-e8fd-fc2f6e64cf99"
      },
      "execution_count": 10,
      "outputs": [
        {
          "output_type": "stream",
          "name": "stdout",
          "text": [
            "/content/drive/MyDrive/Bootcamp2025\n",
            "/content/drive/MyDrive/Bootcamp2025/new_files\n",
            "--2025-07-07 04:39:22--  https://raw.githubusercontent.com/Astronomia-Ecuador/ISYA2025/main/Python_for_Astrophysics/files/script.py\n",
            "Resolving raw.githubusercontent.com (raw.githubusercontent.com)... 185.199.108.133, 185.199.109.133, 185.199.110.133, ...\n",
            "Connecting to raw.githubusercontent.com (raw.githubusercontent.com)|185.199.108.133|:443... connected.\n",
            "HTTP request sent, awaiting response... 200 OK\n",
            "Length: 22 [text/plain]\n",
            "Saving to: ‘script.py.2’\n",
            "\n",
            "script.py.2         100%[===================>]      22  --.-KB/s    in 0s      \n",
            "\n",
            "2025-07-07 04:39:22 (230 KB/s) - ‘script.py.2’ saved [22/22]\n",
            "\n"
          ]
        }
      ]
    },
    {
      "cell_type": "code",
      "source": [
        "# Display content\n",
        "!cat script.py"
      ],
      "metadata": {
        "colab": {
          "base_uri": "https://localhost:8080/"
        },
        "id": "RIjQOZPdJK90",
        "outputId": "3e2b10c4-2eb9-474b-ad44-ecf4a9013462"
      },
      "execution_count": 11,
      "outputs": [
        {
          "output_type": "stream",
          "name": "stdout",
          "text": [
            "print(\"Hello World!\")\n"
          ]
        }
      ]
    },
    {
      "cell_type": "markdown",
      "source": [
        "## Writing text files on Linux mode:"
      ],
      "metadata": {
        "id": "NAah5r_XJOc6"
      }
    },
    {
      "cell_type": "code",
      "source": [
        "# Create a file with content\n",
        "!echo \"Hello, Avante 2025 class!\" > file.txt\n",
        "!echo \"This is a Colab tutorial.\" >> file.txt # Append content"
      ],
      "metadata": {
        "id": "LrAN7oJOIW-M"
      },
      "execution_count": 12,
      "outputs": []
    },
    {
      "cell_type": "markdown",
      "source": [
        "### Looking into files:"
      ],
      "metadata": {
        "id": "D5bLkfVTLB7V"
      }
    },
    {
      "cell_type": "code",
      "source": [
        "# Display content\n",
        "!cat hello.txt"
      ],
      "metadata": {
        "colab": {
          "base_uri": "https://localhost:8080/"
        },
        "id": "KP1cQ7e0JAQI",
        "outputId": "28169352-78a1-43da-bfa3-a1003d9a2f73"
      },
      "execution_count": 13,
      "outputs": [
        {
          "output_type": "stream",
          "name": "stdout",
          "text": [
            "Hello, Colab!\n",
            "This is a Linux tutorial.\n"
          ]
        }
      ]
    },
    {
      "cell_type": "code",
      "source": [
        "!head -n 1 hello.txt\n",
        "!tail -n 1 hello.txt"
      ],
      "metadata": {
        "colab": {
          "base_uri": "https://localhost:8080/"
        },
        "id": "VYsHmGqDLF8y",
        "outputId": "54abc0eb-1440-4a9a-ffdb-db0975baa5b0"
      },
      "execution_count": 14,
      "outputs": [
        {
          "output_type": "stream",
          "name": "stdout",
          "text": [
            "Hello, Colab!\n",
            "This is a Linux tutorial.\n"
          ]
        }
      ]
    },
    {
      "cell_type": "markdown",
      "source": [
        "## Creating directories and navigating:"
      ],
      "metadata": {
        "id": "OngqylscJpoo"
      }
    },
    {
      "cell_type": "code",
      "source": [
        "# Create a test directory\n",
        "!mkdir my_test_dir\n",
        "\n",
        "# Change into it using a magic command (persists)\n",
        "%cd my_test_dir\n",
        "!pwd\n",
        "\n",
        "# Go back up one level\n",
        "%cd ..\n",
        "!pwd"
      ],
      "metadata": {
        "colab": {
          "base_uri": "https://localhost:8080/"
        },
        "id": "ZsEi4n67JJXH",
        "outputId": "71524c06-9ec9-46b9-b5e5-50d8b033ffb4"
      },
      "execution_count": 15,
      "outputs": [
        {
          "output_type": "stream",
          "name": "stdout",
          "text": [
            "mkdir: cannot create directory ‘my_test_dir’: File exists\n",
            "/content/drive/MyDrive/Bootcamp2025/new_files/my_test_dir\n",
            "/content/drive/MyDrive/Bootcamp2025/new_files/my_test_dir\n",
            "/content/drive/MyDrive/Bootcamp2025/new_files\n",
            "/content/drive/MyDrive/Bootcamp2025/new_files\n"
          ]
        }
      ]
    },
    {
      "cell_type": "code",
      "source": [
        "!mkdir my_new_dir/subdir\n",
        "\n",
        "!ls"
      ],
      "metadata": {
        "colab": {
          "base_uri": "https://localhost:8080/"
        },
        "id": "fj8LMPzIJvk5",
        "outputId": "33eec2d1-3314-42fa-b005-0b77440880bf"
      },
      "execution_count": 16,
      "outputs": [
        {
          "output_type": "stream",
          "name": "stdout",
          "text": [
            "mkdir: cannot create directory ‘my_new_dir/subdir’: File exists\n",
            "copy_of_my_file2.txt  hello.txt   my_test_dir  script.py.1\n",
            "file.txt\t      my_new_dir  script.py    script.py.2\n"
          ]
        }
      ]
    },
    {
      "cell_type": "markdown",
      "source": [
        "## Copying files:"
      ],
      "metadata": {
        "id": "GjHq6h4oKUrM"
      }
    },
    {
      "cell_type": "code",
      "source": [
        "!cp hello.txt copy_of_my_file.txt\n",
        "\n",
        "!ls\n"
      ],
      "metadata": {
        "colab": {
          "base_uri": "https://localhost:8080/"
        },
        "id": "PkCUsCh4J7fs",
        "outputId": "348c8be6-ae43-4ab8-b1ce-69f9a7417403"
      },
      "execution_count": 17,
      "outputs": [
        {
          "output_type": "stream",
          "name": "stdout",
          "text": [
            "copy_of_my_file2.txt  file.txt\t my_new_dir   script.py    script.py.2\n",
            "copy_of_my_file.txt   hello.txt  my_test_dir  script.py.1\n"
          ]
        }
      ]
    },
    {
      "cell_type": "markdown",
      "source": [
        "### Removing directories/files wirh ```rm```:"
      ],
      "metadata": {
        "id": "xVrTSPgzKd0A"
      }
    },
    {
      "cell_type": "code",
      "source": [
        "!rm -rf nested new_folder\n",
        "!ls"
      ],
      "metadata": {
        "colab": {
          "base_uri": "https://localhost:8080/"
        },
        "id": "zEw109mgKaeP",
        "outputId": "b3861b56-a119-4ed2-de8b-0e882bad392e"
      },
      "execution_count": 18,
      "outputs": [
        {
          "output_type": "stream",
          "name": "stdout",
          "text": [
            "copy_of_my_file2.txt  file.txt\t my_new_dir   script.py    script.py.2\n",
            "copy_of_my_file.txt   hello.txt  my_test_dir  script.py.1\n"
          ]
        }
      ]
    },
    {
      "cell_type": "markdown",
      "source": [
        "## Moving directories with ```mv```:"
      ],
      "metadata": {
        "id": "KxNLGQFvK2KZ"
      }
    },
    {
      "cell_type": "code",
      "source": [
        "!mv copy_of_my_file.txt copy_of_my_file2.txt\n",
        "!ls"
      ],
      "metadata": {
        "colab": {
          "base_uri": "https://localhost:8080/"
        },
        "id": "scPTVa2fKnc5",
        "outputId": "e516e7f9-b87a-4526-91dc-8654e3e17018"
      },
      "execution_count": 19,
      "outputs": [
        {
          "output_type": "stream",
          "name": "stdout",
          "text": [
            "copy_of_my_file2.txt  hello.txt   my_test_dir  script.py.1\n",
            "file.txt\t      my_new_dir  script.py    script.py.2\n"
          ]
        }
      ]
    },
    {
      "cell_type": "markdown",
      "source": [
        "## The top command"
      ],
      "metadata": {
        "id": "mUpFsaYSLU7b"
      }
    },
    {
      "cell_type": "code",
      "source": [
        "!top -n 1 -b"
      ],
      "metadata": {
        "colab": {
          "base_uri": "https://localhost:8080/"
        },
        "id": "jhr6VCCdK8k5",
        "outputId": "f5013f39-e8f9-4c89-e941-49528be30ae9"
      },
      "execution_count": 20,
      "outputs": [
        {
          "output_type": "stream",
          "name": "stdout",
          "text": [
            "top - 04:39:24 up 25 min,  0 users,  load average: 0.57, 0.41, 0.32\n",
            "Tasks:  27 total,   1 running,  24 sleeping,   0 stopped,   2 zombie\n",
            "%Cpu(s):  3.4 us,  0.0 sy,  0.0 ni, 96.6 id,  0.0 wa,  0.0 hi,  0.0 si,  0.0 st\n",
            "MiB Mem :  12978.0 total,   9063.8 free,    834.3 used,   3079.9 buff/cache\n",
            "MiB Swap:      0.0 total,      0.0 free,      0.0 used.  11851.1 avail Mem \n",
            "\n",
            "    PID USER      PR  NI    VIRT    RES    SHR S  %CPU  %MEM     TIME+ COMMAND\n",
            "      7 root      20   0 1296492  68356  41624 S   6.7   0.5   0:04.66 node\n",
            "      1 root      20   0    1076      8      0 S   0.0   0.0   0:00.05 docker-+\n",
            "      9 root      20   0    7376   3460   3156 S   0.0   0.0   0:00.86 oom_mon+\n",
            "     11 root      20   0    7376   1800   1516 S   0.0   0.0   0:00.00 run.sh\n",
            "     12 root      20   0 1237768  16548   9524 S   0.0   0.1   0:00.90 kernel_+\n",
            "     41 root      20   0    5808   1020    924 S   0.0   0.0   0:00.09 tail\n",
            "     47 root      20   0    5808    996    904 S   0.0   0.0   0:00.09 tail\n",
            "     69 root      20   0       0      0      0 Z   0.0   0.0   0:20.42 python3\n",
            "     70 root      20   0   77364  57592  19488 S   0.0   0.4   0:00.75 colab-f+\n",
            "     87 root      20   0  389060 135756  27020 S   0.0   1.0   0:06.99 jupyter+\n",
            "     88 root      20   0 1230484   9688   3708 S   0.0   0.1   0:01.16 dap_mul+\n",
            "   2425 root      20   0    4364    280      0 S   0.0   0.0   0:00.00 bash\n",
            "   2426 root      20   0 2208880  38964  27264 S   0.0   0.3   0:00.20 drive\n",
            "   2427 root      20   0    3632   1684   1576 S   0.0   0.0   0:00.00 grep\n",
            "   2557 root      20   0 3723044  83000  48504 S   0.0   0.6   0:01.80 drive\n",
            "   2599 root      20   0       0      0      0 Z   0.0   0.0   0:00.45 fusermo+\n",
            "   2646 root      20   0    4364   3172   2928 S   0.0   0.0   0:00.00 bash\n",
            "   2647 root      20   0 1228576   4732   2848 S   0.0   0.0   0:00.04 directo+\n",
            "   2648 root      20   0    2824   1000    912 S   0.0   0.0   0:00.04 tail\n",
            "   2649 root      20   0   20888  13028   6132 S   0.0   0.1   0:00.07 python3\n",
            "   6170 root      20   0  545680  21132   5704 S   0.0   0.2   0:00.69 python3\n",
            "   6217 root      20   0 1241568  19928  11648 S   0.0   0.1   0:00.10 languag+\n",
            "   6223 root      20   0 1704104 188804  41428 S   0.0   1.4   0:04.89 node\n",
            "   6412 root      20   0 1189676 104688  25816 S   0.0   0.8   0:02.18 python3\n",
            "   6434 root      20   0  324484  20620   5436 S   0.0   0.2   0:00.67 python3\n",
            "   6505 root      20   0    5776   1004    912 S   0.0   0.0   0:00.00 sleep\n",
            "   6509 root      20   0   10360   3472   3116 R   0.0   0.0   0:00.00 top\n"
          ]
        }
      ]
    }
  ],
  "metadata": {
    "colab": {
      "provenance": [],
      "include_colab_link": true
    },
    "kernelspec": {
      "display_name": "Python 3",
      "name": "python3"
    },
    "language_info": {
      "name": "python"
    }
  },
  "nbformat": 4,
  "nbformat_minor": 0
}